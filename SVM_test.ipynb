{
 "cells": [
  {
   "cell_type": "code",
   "execution_count": 1,
   "metadata": {},
   "outputs": [
    {
     "name": "stdout",
     "output_type": "stream",
     "text": [
      "Model, label encoder, and TF-IDF vectorizer loaded.\n"
     ]
    }
   ],
   "source": [
    "import joblib\n",
    "\n",
    "# Load the SVM model\n",
    "svm_model = joblib.load(\"SVM model/svm_model.pkl\")\n",
    "\n",
    "# Load the label encoder\n",
    "label_encoder = joblib.load(\"SVM model/label_encoder.pkl\")\n",
    "\n",
    "# Load the TF-IDF vectorizer\n",
    "tfidf = joblib.load(\"SVM model/tfidf_vectorizer.pkl\")\n",
    "\n",
    "print(\"Model, label encoder, and TF-IDF vectorizer loaded.\")"
   ]
  },
  {
   "cell_type": "code",
   "execution_count": 2,
   "metadata": {},
   "outputs": [
    {
     "name": "stdout",
     "output_type": "stream",
     "text": [
      "Predicted category: Thơ thiên nhiên\n"
     ]
    }
   ],
   "source": [
    "def predict_category_svm(poem, model, tfidf, label_encoder):\n",
    "    # Ensure the poem is processed as a single input for the TF-IDF vectorizer\n",
    "    poem_tfidf = tfidf.transform([poem])\n",
    "    \n",
    "    # Predict the category\n",
    "    predicted_class = model.predict(poem_tfidf)[0]\n",
    "    \n",
    "    # Decode the label\n",
    "    predicted_label = label_encoder.inverse_transform([predicted_class])[0]\n",
    "    return predicted_label\n",
    "\n",
    "# Test with the full poem\n",
    "new_poem = \"\"\"\n",
    "Đông Hà Nội họa mi cúc nở\n",
    "Cánh mỏng xinh rạng rỡ bên thềm\n",
    "Thu qua nỗi nhớ nhiều thêm\n",
    "Lá vàng trút rụng êm đềm lối xưa\n",
    "Phố ngái ngủ như vừa tỉnh giấc\n",
    "Gió lang thang ghé bậc hiên nhà\n",
    "Ngỡ ngàng trước những nụ hoa\n",
    "Tinh khôi cánh trắng mượt mà đáng yêu\n",
    "Tà áo mỏng diễm kiều dáng ngọc\n",
    "Mắt nhung huyền mái tóc ngang vai\n",
    "Xinh tươi đượm nét trang đài\n",
    "Dạo trên phố nhỏ làm ai ngẩn nhìn\n",
    "Bao kỷ niệm hằn in tâm trí\n",
    "Ly cà phê thơm vị ngọt ngào\n",
    "Ấm nồng hạnh phúc ta trao\n",
    "Họa mi cúc nở quyện vào hồn thơ\n",
    "Xa biết đến bao giờ gặp lại\n",
    "Mối tình đầu đẹp mãi nhé anh\n",
    "Trái tim em đã riêng dành\n",
    "Hai ngăn chứa cả tình xanh chúng mình.\n",
    "\n",
    "\"\"\"\n",
    "\n",
    "predicted_category = predict_category_svm(new_poem, svm_model, tfidf, label_encoder)\n",
    "print(f\"Predicted category: {predicted_category}\")\n"
   ]
  },
  {
   "cell_type": "code",
   "execution_count": null,
   "metadata": {},
   "outputs": [],
   "source": [
    "# Load new data\n",
    "new_data_path = 'new_poems.csv'  # Replace with provided file\n",
    "new_data = pd.read_csv(new_data_path)\n",
    "\n",
    "# Predict for all rows\n",
    "new_data['Predicted_Category'] = new_data['content'].apply(lambda x: predict_category_svm(x, svm_model, tfidf, label_encoder))\n",
    "\n",
    "# Save predictions to a file\n",
    "new_data.to_csv('predicted_poems_svm.csv', index=False)\n",
    "print(\"Predictions saved to 'predicted_poems_svm.csv'.\")\n"
   ]
  }
 ],
 "metadata": {
  "kernelspec": {
   "display_name": "Python 3",
   "language": "python",
   "name": "python3"
  },
  "language_info": {
   "codemirror_mode": {
    "name": "ipython",
    "version": 3
   },
   "file_extension": ".py",
   "mimetype": "text/x-python",
   "name": "python",
   "nbconvert_exporter": "python",
   "pygments_lexer": "ipython3",
   "version": "3.12.8"
  }
 },
 "nbformat": 4,
 "nbformat_minor": 2
}
