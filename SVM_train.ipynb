{
 "cells": [
  {
   "cell_type": "code",
   "execution_count": 21,
   "metadata": {},
   "outputs": [
    {
     "name": "stdout",
     "output_type": "stream",
     "text": [
      "Training samples: 1920\n",
      "Testing samples: 240\n",
      "Validation samples: 240\n",
      "Train, test, and validation datasets saved as CSV files!\n"
     ]
    }
   ],
   "source": [
    "import pandas as pd\n",
    "from sklearn.model_selection import train_test_split\n",
    "from sklearn.preprocessing import LabelEncoder\n",
    "\n",
    "# Load dataset\n",
    "file_path = 'Processed_Poem_Dataset.csv'  # Replace with your dataset path\n",
    "data = pd.read_csv(file_path)\n",
    "\n",
    "# Encode labels\n",
    "label_encoder = LabelEncoder()\n",
    "data['Category_encoded'] = label_encoder.fit_transform(data['Category'])\n",
    "\n",
    "# Split data into training and a temporary set (test+validation)\n",
    "X_train, X_temp, y_train, y_temp = train_test_split(\n",
    "    data['content'], \n",
    "    data['Category_encoded'], \n",
    "    test_size=0.2,  # 20% for test+validation\n",
    "    random_state=42\n",
    ")\n",
    "\n",
    "# Ensure the temporary set is further split into test and validation sets\n",
    "X_test, X_val, y_test, y_val = train_test_split(\n",
    "    X_temp, \n",
    "    y_temp, \n",
    "    test_size=0.5,  # 50% of the temporary set becomes validation\n",
    "    random_state=42\n",
    ")\n",
    "\n",
    "# Print dataset sizes\n",
    "print(f\"Training samples: {len(X_train)}\")\n",
    "print(f\"Testing samples: {len(X_test)}\")\n",
    "print(f\"Validation samples: {len(X_val)}\")\n",
    "\n",
    "# Combine features and labels into DataFrames\n",
    "train_data = pd.DataFrame({'content': X_train, 'Category_encoded': y_train})\n",
    "test_data = pd.DataFrame({'content': X_test, 'Category_encoded': y_test})\n",
    "val_data = pd.DataFrame({'content': X_val, 'Category_encoded': y_val})\n",
    "\n",
    "# Save splits\n",
    "train_data.to_csv('train_data.csv', index=False)\n",
    "test_data.to_csv('test_data.csv', index=False)\n",
    "val_data.to_csv('val_data.csv', index=False)\n",
    "\n",
    "print(\"Train, test, and validation datasets saved as CSV files!\")\n"
   ]
  },
  {
   "cell_type": "code",
   "execution_count": 22,
   "metadata": {},
   "outputs": [
    {
     "name": "stdout",
     "output_type": "stream",
     "text": [
      "TF-IDF training data shape: (1920, 2500)\n"
     ]
    }
   ],
   "source": [
    "from sklearn.feature_extraction.text import TfidfVectorizer\n",
    "\n",
    "# Convert text data into TF-IDF features\n",
    "tfidf = TfidfVectorizer(max_features=2500)  # Adjust max_features as needed\n",
    "X_train_tfidf = tfidf.fit_transform(X_train)\n",
    "X_test_tfidf = tfidf.transform(X_test)\n",
    "\n",
    "print(f\"TF-IDF training data shape: {X_train_tfidf.shape}\")\n"
   ]
  },
  {
   "cell_type": "code",
   "execution_count": 23,
   "metadata": {},
   "outputs": [
    {
     "name": "stdout",
     "output_type": "stream",
     "text": [
      "SVM model training complete.\n"
     ]
    }
   ],
   "source": [
    "from sklearn.svm import SVC\n",
    "\n",
    "# Initialize and train SVM model\n",
    "svm_model = SVC(kernel='linear', C=1, random_state=42)\n",
    "svm_model.fit(X_train_tfidf, y_train)\n",
    "\n",
    "print(\"SVM model training complete.\")\n"
   ]
  },
  {
   "cell_type": "code",
   "execution_count": 24,
   "metadata": {},
   "outputs": [
    {
     "name": "stdout",
     "output_type": "stream",
     "text": [
      "Classification Report:\n",
      "                 precision    recall  f1-score   support\n",
      "\n",
      "   Thơ gia đình       0.90      0.78      0.83        67\n",
      "Thơ thiên nhiên       0.68      0.72      0.70        64\n",
      "       Thơ tình       0.62      0.65      0.64        52\n",
      "   Thơ đất nước       0.76      0.79      0.78        57\n",
      "\n",
      "       accuracy                           0.74       240\n",
      "      macro avg       0.74      0.73      0.74       240\n",
      "   weighted avg       0.75      0.74      0.74       240\n",
      "\n",
      "Accuracy: 0.7375\n"
     ]
    },
    {
     "data": {
      "image/png": "[encoded data removed]",
      "text/plain": [
       "<Figure size 640x480 with 2 Axes>"
      ]
     },
     "metadata": {},
     "output_type": "display_data"
    }
   ],
   "source": [
    "from sklearn.metrics import classification_report, accuracy_score, confusion_matrix, ConfusionMatrixDisplay\n",
    "import matplotlib.pyplot as plt\n",
    "\n",
    "# Predict on the test set\n",
    "y_pred = svm_model.predict(X_test_tfidf)\n",
    "\n",
    "# Evaluate the model\n",
    "print(\"Classification Report:\")\n",
    "print(classification_report(y_test, y_pred, target_names=label_encoder.classes_))\n",
    "print(f\"Accuracy: {accuracy_score(y_test, y_pred):.4f}\")\n",
    "\n",
    "# Compute the confusion matrix\n",
    "cm = confusion_matrix(y_test, y_pred)\n",
    "\n",
    "# Display the confusion matrix\n",
    "disp = ConfusionMatrixDisplay(confusion_matrix=cm, display_labels=label_encoder.classes_)\n",
    "disp.plot(cmap=plt.cm.Blues)  # Customize the color map if needed\n",
    "plt.title(\"Confusion Matrix\")\n",
    "plt.show()\n",
    "\n"
   ]
  },
  {
   "cell_type": "code",
   "execution_count": 35,
   "metadata": {},
   "outputs": [
    {
     "name": "stdout",
     "output_type": "stream",
     "text": [
      "Model, label encoder, and TF-IDF vectorizer saved.\n"
     ]
    }
   ],
   "source": [
    "import joblib\n",
    "\n",
    "# Save the model, label encoder, and TF-IDF vectorizer\n",
    "joblib.dump(svm_model, \"svm_model.pkl\")\n",
    "joblib.dump(label_encoder, \"label_encoder.pkl\")\n",
    "joblib.dump(tfidf, \"tfidf_vectorizer.pkl\")\n",
    "\n",
    "print(\"Model, label encoder, and TF-IDF vectorizer saved.\")\n"
   ]
  }
 ],
 "metadata": {
  "kernelspec": {
   "display_name": "Python 3",
   "language": "python",
   "name": "python3"
  },
  "language_info": {
   "codemirror_mode": {
    "name": "ipython",
    "version": 3
   },
   "file_extension": ".py",
   "mimetype": "text/x-python",
   "name": "python",
   "nbconvert_exporter": "python",
   "pygments_lexer": "ipython3",
   "version": "3.12.8"
  }
 },
 "nbformat": 4,
 "nbformat_minor": 2
}
